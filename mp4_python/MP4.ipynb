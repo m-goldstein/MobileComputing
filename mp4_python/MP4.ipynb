{
 "cells": [
  {
   "cell_type": "markdown",
   "metadata": {},
   "source": [
    "# ECE/CS 434 | MP4: IMU PDR\n",
    "<br />\n",
    "<nav>\n",
    "    <span class=\"alert alert-block alert-warning\">Due at 11:59PM April 13th 2021 on Gradescope</span> |\n",
    "    <a href=\"https://www.gradescope.com/courses/223105\">Gradescope</a> | \n",
    "    <a href=\"https://courses.grainger.illinois.edu/cs434/sp2021/\">Course Website</a> | \n",
    "    <a href=\"http://piazza.com/illinois/spring2021/csece434\">Piazza</a>\n",
    "</nav><br> \n",
    "\n",
    "**Name(s):** _ , _<br>\n",
    "**NetID(s):** _ , _\n",
    "\n",
    "<hr />  "
   ]
  },
  {
   "cell_type": "markdown",
   "metadata": {},
   "source": [
    "## Objective\n",
    "In this MP, you will:\n",
    "- Implement a step counting algorithm using accelerometer data.\n",
    "- Apply signal processing and linear algebra functions such as low/high pass filtering, peak detection, fft, etc. to the step counting algorithm.\n",
    "- Calculate phone orientation using a single static accelerometer reading. \n",
    "- Track phone orientation through a sequence of gyroscope data by performing integration."
   ]
  },
  {
   "cell_type": "markdown",
   "metadata": {},
   "source": [
    "---\n",
    "## Problem Overview\n",
    "In pedestrian dead-reckoning applications, two pieces of information need to be tracked: how far a user walked, and the direction of the walk. In the first part of this MP, you will write a step counter using accelerometer data as input. In the second part, you will derive the initial orientation of the phone using a single accelerometer reading and calculate the final orientation using a sequence of gyroscope data."
   ]
  },
  {
   "cell_type": "markdown",
   "metadata": {},
   "source": [
    "---\n",
    "## Imports & Setup\n",
    "\n",
    "### Installing requirements correctly\n",
    "\n",
    "First. we will make sure that the correct versions of required modules are installed. This ensures that your local Python environment is consistent with the one running on the Gradescope autograder. Just convert the following cell to code and run:\n",
    "\n",
    "<div class=\"alert alert-block alert-info\"><b>Note:</b> It's preferred that your local environment matches the autograder to prevent possible inconsistencies. However, if you're running into annoying Python version issues but haven't had any issues getting consistent results on the autograder, there is no need to stress over it. Just skip for now and come back when you do encounter inconsistencies:) Ditto below.\n",
    "</div>\n",
    "\n",
    "<div class=\"alert alert-block alert-info\"><b>WARNING:</b> ENSURE THE FOLLOWING CELL IS MARKDOWN OR DELETED BEFORE SUBMITTING. THE AUTOGRADER WILL FAIL \n",
    "</div>"
   ]
  },
  {
   "cell_type": "markdown",
   "metadata": {},
   "source": [
    "if __name__ == '__main__':\n",
    "    import sys\n",
    "    !{sys.executable} -m pip install -r requirements.txt"
   ]
  },
  {
   "cell_type": "markdown",
   "metadata": {},
   "source": [
    "### Your imports\n",
    "Write your import statements below. If Gradescope reports an error and you believe it is due to an unsupported import, check with the TA to see if it could be added."
   ]
  },
  {
   "cell_type": "code",
   "execution_count": 37,
   "metadata": {},
   "outputs": [],
   "source": [
    "import numpy as np\n",
    "import pandas as pd\n",
    "import scipy\n",
    "import scipy.signal\n",
    "import numpy\n",
    "import numpy.linalg as LA\n",
    "import matplotlib.pyplot as plt\n",
    "# This function is used to format test results. You don't need to touch it.\n",
    "def display_table(data):\n",
    "    from IPython.display import HTML, display\n",
    "\n",
    "    html = \"<table>\"\n",
    "    for row in data:\n",
    "        html += \"<tr>\"\n",
    "        for field in row:\n",
    "            html += \"<td><h4>{}</h4><td>\".format(field)\n",
    "        html += \"</tr>\"\n",
    "    html += \"</table>\"\n",
    "    display(HTML(html))"
   ]
  },
  {
   "cell_type": "markdown",
   "metadata": {},
   "source": [
    "### Sanity-check\n",
    "\n",
    "Running the following code block verifies that the correct module versions are indeed being used. \n",
    "\n",
    "Try restarting the Python kernel (or Jupyter) if there is a mismatch even after intalling the correct version. This might happen because Python's `import` statement does not reload already-loaded modules even if they are updated."
   ]
  },
  {
   "cell_type": "code",
   "execution_count": 38,
   "metadata": {},
   "outputs": [
    {
     "data": {
      "text/html": [
       "<text style='color:#4caf50;weight:700;'>[✓] numpy version 1.20.1 is correct.</text>"
      ],
      "text/plain": [
       "<IPython.core.display.HTML object>"
      ]
     },
     "metadata": {},
     "output_type": "display_data"
    },
    {
     "data": {
      "text/html": [
       "<text style='color:#4caf50;weight:700;'>[✓] pandas version 1.2.3 is correct.</text>"
      ],
      "text/plain": [
       "<IPython.core.display.HTML object>"
      ]
     },
     "metadata": {},
     "output_type": "display_data"
    },
    {
     "data": {
      "text/html": [
       "<text style='color:#03a9f4;weight:700;'>[–] scikit-learn is not imported, skipping version check.</text>"
      ],
      "text/plain": [
       "<IPython.core.display.HTML object>"
      ]
     },
     "metadata": {},
     "output_type": "display_data"
    },
    {
     "data": {
      "text/html": [
       "<text style='color:#4caf50;weight:700;'>[✓] matplotlib version 3.3.4 is correct.</text>"
      ],
      "text/plain": [
       "<IPython.core.display.HTML object>"
      ]
     },
     "metadata": {},
     "output_type": "display_data"
    },
    {
     "data": {
      "text/html": [
       "<text style='color:#4caf50;weight:700;'>[✓] scipy version 1.6.2 is correct.</text>"
      ],
      "text/plain": [
       "<IPython.core.display.HTML object>"
      ]
     },
     "metadata": {},
     "output_type": "display_data"
    }
   ],
   "source": [
    "if __name__ == '__main__':\n",
    "    from IPython.display import display, HTML\n",
    "\n",
    "    def printc(text, color):\n",
    "        display(HTML(\"<text style='color:{};weight:700;'>{}</text>\".format(color, text)))\n",
    "\n",
    "    _requirements = [r.split(\"==\") for r in open(\n",
    "        \"requirements.txt\", \"r\").read().split(\"\\n\")]\n",
    "\n",
    "    import sys\n",
    "    for (module, expected_version) in _requirements:\n",
    "        try:\n",
    "            if sys.modules[module].__version__ != expected_version:\n",
    "                printc(\"[✕] {} version should to be {}, but {} is installed.\".format(\n",
    "                    module, expected_version, sys.modules[module].__version__), \"#f44336\")\n",
    "            else:\n",
    "                printc(\"[✓] {} version {} is correct.\".format(\n",
    "                    module, expected_version), \"#4caf50\")\n",
    "        except:\n",
    "            printc(\"[–] {} is not imported, skipping version check.\".format(\n",
    "                module), \"#03a9f4\")"
   ]
  },
  {
   "cell_type": "markdown",
   "metadata": {},
   "source": [
    "---\n",
    "## Part 1. Step Counter\n",
    "We have provided you with smartphone accelerometer data collected under three circumstances\n",
    "<ol type=\"A\">\n",
    "  <li>walking with phone in pant pocket</li>\n",
    "  <li>walking with phone held in the hand statically as if the user is looking at it while walking</li>\n",
    "  <li>walking with phone in hand and the hand swinging</li>\n",
    "</ol>\n",
    "For each file, there are three columns, representing the accelerometer readings in three local axes(unit: $m / s^{2}$). The accelerometer is sampled at 100Hz.\n",
    "\n",
    "Implement your algorithm in the `count_steps(walk_accl_file)` function below. Do NOT change the function signature. You are, however, free to define and use helper functions. You are expected to use common signal processing and linear algebra functions (e.g., high/low pass filtering, convolution, cross correllation, peak detection, fft etc.) "
   ]
  },
  {
   "cell_type": "code",
   "execution_count": 39,
   "metadata": {},
   "outputs": [],
   "source": [
    "# This function takes 1 argument:\n",
    "#     walk_accl_file  (string) - name of data file for accelerometer data\n",
    "# It returns an integer, the number of steps\n",
    "\n",
    "\n",
    "##\n",
    "# parameter descriptions, see below\n",
    "#####################################################################################\n",
    "def lpf_response(cs=200/60,fs=100,order=4):\n",
    "    nyquist = (1/2)*fs\n",
    "    thresh = cs/nyquist\n",
    "    return scipy.signal.butter(order,thresh,btype='low',analog=False)\n",
    "\n",
    "# cs : cutoff freq; default 200 steps per minute; this is better than record marathon runners\n",
    "# fs : sampling freq\n",
    "# order: polynomial degree for filter\n",
    "###################################################################################\n",
    "def lpf(vals,cs=200/60,fs=100,order=4):\n",
    "    num,dem=lpf_response(cs=cs,fs=fs,order=order)\n",
    "    return scipy.signal.lfilter(num,dem,vals)\n",
    "\n",
    "# This function takes 1 argument:\n",
    "#     walk_accl_file  (string) - name of data file for accelerometer data\n",
    "# It returns an integer, the number of steps\n",
    "\n",
    "def count_steps(walk_accl_file):\n",
    "    # Your implementation starts here:\n",
    "    data = pd.read_csv(walk_accl_file,header=None)\n",
    "    x_dim,y_dim,z_dim = np.asarray(data[0]),np.asarray(data[1]),np.asarray(data[2])\n",
    "    mag = np.asarray([np.sqrt((x_dim[i]**2+y_dim[i]**2+z_dim[i]**2)) for i in range(len(x_dim))])\n",
    "    mag_adjusted = np.asarray([e-mag.mean() for e in mag])\n",
    "    baseline = np.std(mag_adjusted)\n",
    "    filtered_mags  = lpf(mag_adjusted,order=4) # i think 4th order? \n",
    "    [peak_vals,peak_locs] = scipy.signal.find_peaks(filtered_mags,prominence=baseline)\n",
    "    return len(peak_vals)\n"
   ]
  },
  {
   "cell_type": "markdown",
   "metadata": {},
   "source": [
    "### Run & Test\n",
    "Use the cell below to run and test `count_steps(walk_accl_file)`. "
   ]
  },
  {
   "cell_type": "code",
   "execution_count": 40,
   "metadata": {},
   "outputs": [
    {
     "data": {
      "text/html": [
       "<table><tr><td><h4>Dataset</h4><td><td><h4>Expected Output</h4><td><td><h4>Your Output</h4><td><td><h4>Grade</h4><td></tr><tr><td><h4>data/holdstatic_20steps.csv</h4><td><td><h4>20</h4><td><td><h4>20</h4><td><td><h4>5.00 / 5.00</h4><td></tr><tr><td><h4>data/inpocket_26steps.csv</h4><td><td><h4>26</h4><td><td><h4>25</h4><td><td><h4>5.00 / 5.00</h4><td></tr><tr><td><h4>data/inpocket_36steps.csv</h4><td><td><h4>36</h4><td><td><h4>35</h4><td><td><h4>5.00 / 5.00</h4><td></tr><tr><td><h4>data/swing_32steps.csv</h4><td><td><h4>32</h4><td><td><h4>32</h4><td><td><h4>5.00 / 5.00</h4><td></tr><tr><td><h4>data/swing_38steps.csv</h4><td><td><h4>38</h4><td><td><h4>38</h4><td><td><h4>5.00 / 5.00</h4><td></tr><tr><td><h4><i>👻 Hidden test 1 👻</i></h4><td><td><h4><i>???</i></h4><td><td><h4><i>???</i></h4><td><td><h4><i>???</i> / 15.00</h4><td></tr><tr><td><h4><i>...</i></h4><td><td><h4><i>...</i></h4><td><td><h4><i>...</i></h4><td><td><h4><i>...</i></h4><td></tr><tr><td><h4><i>👻 Hidden test 5 👻</i></h4><td><td><h4><i>???</i></h4><td><td><h4><i>???</i></h4><td><td><h4><i>???</i> / 15.00</h4><td></tr></table>"
      ],
      "text/plain": [
       "<IPython.core.display.HTML object>"
      ]
     },
     "metadata": {},
     "output_type": "display_data"
    }
   ],
   "source": [
    "def estimate_steps_score(calculated, expected):\n",
    "    delta = abs(calculated - expected)\n",
    "    return 1 if(delta <= 2) else max((1 - abs(delta - 2) / expected), 0)\n",
    "\n",
    "\n",
    "if __name__ == '__main__':\n",
    "    walk_accl_files = ['data/holdstatic_20steps.csv', 'data/inpocket_26steps.csv',\n",
    "                       'data/inpocket_36steps.csv', 'data/swing_32steps.csv', 'data/swing_38steps.csv']\n",
    "    groundtruth = [20, 26, 36, 32, 38]\n",
    "    output = [['Dataset', 'Expected Output', 'Your Output', 'Grade']]\n",
    "    for i in range(len(groundtruth)):\n",
    "        calculated = count_steps(walk_accl_files[i])\n",
    "        score = estimate_steps_score(calculated, groundtruth[i])\n",
    "        output.append([walk_accl_files[i], groundtruth[i],\n",
    "                      calculated, \"{:2.2f} / 5.00\".format(score * 5)])\n",
    "    output.append(['<i>👻 Hidden test 1 👻</i>','<i>???</i>', '<i>???</i>', '<i>???</i> / 15.00'])\n",
    "    output.append(['<i>...</i>', '<i>...</i>', '<i>...</i>', '<i>...</i>'])\n",
    "    output.append(['<i>👻 Hidden test 5 👻</i>','<i>???</i>', '<i>???</i>', '<i>???</i> / 15.00'])\n",
    "    display_table(output)"
   ]
  },
  {
   "cell_type": "markdown",
   "metadata": {},
   "source": [
    "---\n",
    "## Part 2. Orientation Tracking\n",
    "\n",
    "### Part 2.1 Initial Orientation Calculation\n",
    "Assume the phone is static at the initial moment. We will provide you with the accelerometer reading at that moment (unit: $m / s^{2}$). Your goal is to identify the initial phone orientation from this reading. We will not provide compass data here since all the data are collected indoor and compass won’t give an accurate north indoor. Instead, assume at the initial moment, the projection of the phone’s local Y axis onto the horizontal plane is pointing towards the global Y axis. This will also give a fixed phone initial orientation.\n",
    "\n",
    "**We expect you to output the global direction in which the phone’s local X axis is pointing at.**\n",
    "\n",
    "<div class=\"alert alert-block alert-info\"><b>Hint:</b> Find the global Y axis’s direction in the local frame and let this direction be a 3 × 1 vector $v_{1}$. Let the gravity in\n",
    "the local frame be another 3 × 1 vector $v_{2}$. Then essentially you need to solve the following equation: <br> $\n",
    "R\\left[v_{1} v_{2}\\right]=\\left[\\begin{array}{ll}\n",
    "0 & 0 \\\\\n",
    "1 & 0 \\\\\n",
    "0 & 1\n",
    "\\end{array}\\right]$ </div>"
   ]
  },
  {
   "cell_type": "markdown",
   "metadata": {},
   "source": [
    "### Part 2.2 3D Orientation Tracking\n",
    "In this part, you need to take the initial orientation calculated in part 1, and perform gyro integration for each timestamp onward. We will provide you with a trace of gyroscope data, in CSV format. There are three columns in the file, representing the gyroscope readings in three **local** axes (unit: $rad / s$). The gyroscope is sampled at 100Hz. Your task is to track the phone’s 3D orientation and **output the end direction in which the phone’s local X axis is pointing at in the global frame**.\n",
    "\n",
    "One way of solving this problem can be:\n",
    "<ol type=\"A\">\n",
    "    <li> Assume the gyroscope’s sample interval is $\\Delta t$. </li>\n",
    "    <li> Get the phone's instant rotation axis and rotation angle in the local frame $(\\vec{l}, \\Delta \\theta)$ for each time stamp $t_{i},$ where $\\vec{l}=\\left(\\omega_{x}, \\omega_{v}, \\omega_{z}\\right)$ and $\\Delta \\theta=\\sqrt{\\left(\\omega_{x}^{2}+\\omega_{v}^{2}+\\omega_{z}^{2}\\right)} \\cdot \\Delta t$ </li>\n",
    "    <li> Project the instant rotation axis $\\vec{l}$ into the global frame using the phone's $3 \\mathrm{D}$ orientation matrix $R_{i}$ at time $t_{i}$. </li>\n",
    "    <li> Convert the instant rotation axis and angle in global frame into the form of rotation matrix $\\Delta R_{i}$. </li>\n",
    "    <li> Find the total 3D rotation matrix for time $t_{i+1}: R_{i+1}=\\Delta R_{i} \\cdot R_{i}$ </li>\n",
    "</ol>\n",
    "\n",
    "--- \n",
    "**Implement both algorithms in `track_orientation(orientation_accl_file, gyro_file)` below.** This is because the initial rotation matrix needed for calculating final orientation is a by-product of calculating initial orientation. Do NOT change the function signature. You are, however, free to define and use helper functions."
   ]
  },
  {
   "cell_type": "code",
   "execution_count": 41,
   "metadata": {},
   "outputs": [],
   "source": [
    "#SOURCES: \n",
    "## https://www.google.com/url?sa=t&rct=j&q=&esrc=s&source=web&cd=&ved=2ahUKEwjK6aTDtvXvAhXxdc0KHVfqB6IQFjACegQIBxAD&url=http%3A%2F%2Fwww.cse.psu.edu%2F~mkg31%2Fteaching%2Fcse_ee597%2Fclass_material%2FIMU_basics.pptx&usg=AOvVaw3Gx_r7rAEHUR9M9mE9CFcJ\n",
    "## https://arxiv.org/pdf/1704.06053.pdf\n",
    "## https://www.allaboutcircuits.com/technical-articles/how-to-interpret-IMU-sensor-data-dead-reckoning-rotation-matrix-creation/"
   ]
  },
  {
   "cell_type": "code",
   "execution_count": 44,
   "metadata": {},
   "outputs": [],
   "source": [
    "def calc_magnitude(X):\n",
    "    acc = 0.0\n",
    "    for e in X:\n",
    "        acc += np.power(e,2.0)\n",
    "    return np.sqrt(acc)\n",
    "\n",
    "# From the wikipedia article on Rotation Matrices\n",
    "def construct_R(ang,p):\n",
    "    wx,wy,wz = p\n",
    "    C = np.cos(ang)\n",
    "    S = np.sin(ang)\n",
    "    wx2 = wx**2\n",
    "    wy2 = wy**2\n",
    "    wz2 = wz**2\n",
    "    I = np.matrix([[1,0,0],[0,1,0],[0,0,1]])\n",
    "    Ux = np.matrix([[0,-wz,wy],[wz,0,-wx],[-wy,wx,0]])\n",
    "    Ux2 = np.matrix([[wx2,wx*wy,wx*wz],[wx*wy,wy2,wy*wz],[wx*wz,wy*wz,wz2]])\n",
    "    R = C*I+S*Ux+(1-C)*Ux2\n",
    "    return R\n",
    "fs = 100\n",
    "orientation_accl_file = 'data/orientation_accl.csv'\n",
    "gyro_file = 'data/gyro.csv'\n",
    "\n",
    "\"\"\"\n",
    "# This function takes 2 arguments:\n",
    "#     - orientation_accl_file (string) - name of file containing a single accl reading\n",
    "#     - gyro_file (string) - name of file containing a sequence of gyroscope data\n",
    "# It returns two arguments: an array representing the initial global direction\n",
    "# in which the phone's local X axis is pointing at, and the final.\n",
    "\"\"\"\n",
    "def track_orientation(orientation_accl_file, gyro_file):\n",
    "    # Your implementation starts here:\n",
    "    orientation_data = pd.read_csv(orientation_accl_file,header=None)\n",
    "    gyro_data = pd.read_csv(gyro_file,header=None)\n",
    "    gyro_x,gyro_y,gyro_z = np.asarray(gyro_data[0]),np.asarray(gyro_data[1]),np.asarray(gyro_data[2])\n",
    "    acc_x,acc_y,acc_z = orientation_data[0],orientation_data[1],orientation_data[2]\n",
    "    grav = np.asarray([float(acc_x),float(acc_y),float(acc_z)])\n",
    "    b = np.matrix([[0,1,0],[0,0,1]]).T\n",
    "    v2 = grav/LA.norm(grav)\n",
    "\n",
    "    # Find an orthogonal vector (kind of like Gram-Schmidt)\n",
    "    v1 = b[:,0].T - ((b[:,0].T@v2)*v2)\n",
    "    v1 = v1/LA.norm(v1)\n",
    "    A        = np.zeros((3,3))\n",
    "    A[:,0:1] = v1.reshape(3,1)\n",
    "    A[:,1:2] = v2.reshape(3,1)\n",
    "    A[:,2:3] = np.cross(v1,v2).reshape(3,1)\n",
    "    A        = A.T\n",
    "    \n",
    "    # find a,b,c coeffs\n",
    "    R = np.zeros((3,3))\n",
    "    R[:,0] = (LA.inv(A)@np.asarray(b[:,1])).T \n",
    "    R[:,1] = v1\n",
    "    R[:,2] = v2\n",
    "    R      = R.T\n",
    "    init   = [e for e in R[:,0]]\n",
    "    angular_mag = np.asarray([(1.0/fs)*np.sqrt(gyro_x[i]**2+gyro_y[i]**2+gyro_z[i]**2) for i in range(len(gyro_x))])\n",
    "    rot_inst = np.asarray([(np.asarray([gyro_x[i],gyro_y[i],gyro_z[i]]).T,angular_mag[i]) for i in range(len(angular_mag))],dtype='object')\n",
    "    R_i = [R]\n",
    "    # use gyroscope data to find new orientation\n",
    "    for i in range(0,len(rot_inst)):\n",
    "        (lx,ly,lz),ang = rot_inst[i]\n",
    "        # Project onto global frame\n",
    "        p = R_i[i]@np.matrix([[lx],[ly],[lz]])\n",
    "        # Get instant rotation axis in global frame using projection, and\n",
    "        # Update R_{i+1} by multiplying dR_i@R_i\n",
    "        R_i.append(construct_R(ang,[float(e) for e in p/LA.norm(p)])@R_i[-1])\n",
    "    final = [float(e) for e in R_i[-1][:,0]]\n",
    "    return [\n",
    "        init,\n",
    "        final,\n",
    "    ]  # [initial orientation], [final orientation]\n",
    "\n"
   ]
  },
  {
   "cell_type": "markdown",
   "metadata": {},
   "source": [
    "### Run & Test\n",
    "Use the cell below to run and test Part 2."
   ]
  },
  {
   "cell_type": "code",
   "execution_count": 45,
   "metadata": {},
   "outputs": [
    {
     "data": {
      "text/html": [
       "<table><tr><td><h4>Test</h4><td><td><h4>Dataset</h4><td><td><h4>Expected Output</h4><td><td><h4>Your Output</h4><td><td><h4>Deviation</h4><td><td><h4>Result</h4><td><td><h4>Grade</h4><td></tr><tr><td><h4>Initial Orientation</h4><td><td><h4>orientation_accl.csv, gyro.csv</h4><td><td><h4>[0.9999, -0.002, 0.012]</h4><td><td><h4>[0.9999264616488895, -0.002040407096399192, 0.0119544148000913]</h4><td><td><h4>0.00°</h4><td><td><h4>PASSED</h4><td><td><h4>10 / 10</h4><td></tr><tr><td><h4>Final Orientation</h4><td><td><h4>orientation_accl.csv, gyro.csv</h4><td><td><h4>[-0.0353, 0.9993, 0.0076]</h4><td><td><h4>[-0.03534573340741646, 0.9993461045342324, 0.007618561684346742]</h4><td><td><h4>0.00°</h4><td><td><h4>PASSED</h4><td><td><h4>10 / 10</h4><td></tr><tr><td><h4><i>👻 Hidden test 1 👻</i></h4><td><td><h4><i>???</i></h4><td><td><h4><i>???</i></h4><td><td><h4><i>???</i></h4><td><td><h4><i>???</i></h4><td><td><h4><i>???</i></h4><td><td><h4><i>???</i> / 10</h4><td></tr><tr><td><h4><i>...</i></h4><td><td><h4><i>...</i></h4><td><td><h4><i>...</i></h4><td><td><h4><i>...</i></h4><td><td><h4><i>...</i></h4><td><td><h4><i>...</i></h4><td><td><h4><i>...</i></h4><td></tr><tr><td><h4><i>👻 Hidden test 4 👻</i></h4><td><td><h4><i>???</i></h4><td><td><h4><i>???</i></h4><td><td><h4><i>???</i></h4><td><td><h4><i>???</i></h4><td><td><h4><i>???</i></h4><td><td><h4><i>???</i> / 10</h4><td></tr></table>"
      ],
      "text/plain": [
       "<IPython.core.display.HTML object>"
      ]
     },
     "metadata": {},
     "output_type": "display_data"
    }
   ],
   "source": [
    "def get_deviation(calculated, expected):\n",
    "    calculated = np.array(calculated)\n",
    "    expected = np.array(expected)\n",
    "    with np.errstate(divide='ignore', invalid='ignore'):\n",
    "        dot_prod = np.dot(calculated, expected) / \\\n",
    "            np.linalg.norm(calculated) / np.linalg.norm(expected)\n",
    "        return np.degrees(np.arccos(dot_prod))\n",
    "\n",
    "\n",
    "if __name__ == '__main__':\n",
    "    gt_init = [0.9999, -0.0020, 0.0120]\n",
    "    gt_final = [-0.0353, 0.9993, 0.0076]\n",
    "    stu_init, stu_final = track_orientation(\n",
    "        'data/orientation_accl.csv', 'data/gyro.csv')\n",
    "\n",
    "    output = [['Test', 'Dataset', 'Expected Output',\n",
    "               'Your Output', 'Deviation', 'Result', 'Grade']]\n",
    "    init_state = 'FAILED'\n",
    "    final_state = 'FAILED'\n",
    "    init_grade = 0\n",
    "    final_grade = 0\n",
    "    init_dev = get_deviation(stu_init, gt_init)\n",
    "    final_dev = get_deviation(stu_final, gt_final)\n",
    "    if(init_dev < 2):\n",
    "        init_state = 'PASSED'\n",
    "        init_grade = 10\n",
    "    if(final_dev < 2):\n",
    "        final_state = 'PASSED'\n",
    "        final_grade = 10\n",
    "    output.append(['Initial Orientation',\n",
    "                  'orientation_accl.csv, gyro.csv', gt_init, stu_init, \"{:2.2f}°\".format(init_dev), init_state, \"{} / 10\".format(init_grade)])\n",
    "    output.append(['Final Orientation', 'orientation_accl.csv, gyro.csv',\n",
    "                  gt_final, stu_final, \"{:2.2f}°\".format(final_dev), final_state, \"{} / 10\".format(final_grade)])\n",
    "    output.append(['<i>👻 Hidden test 1 👻</i>','<i>???</i>', '<i>???</i>', '<i>???</i>', '<i>???</i>', '<i>???</i>', '<i>???</i> / 10'])\n",
    "    output.append(['<i>...</i>', '<i>...</i>', '<i>...</i>', '<i>...</i>', '<i>...</i>', '<i>...</i>', '<i>...</i>'])\n",
    "    output.append(['<i>👻 Hidden test 4 👻</i>','<i>???</i>', '<i>???</i>', '<i>???</i>', '<i>???</i>', '<i>???</i>', '<i>???</i> / 10'])\n",
    "    display_table(output)"
   ]
  },
  {
   "cell_type": "markdown",
   "metadata": {},
   "source": [
    "---\n",
    "## Rubric\n",
    "\n",
    "#### Step Counting (100 points) \n",
    "You will be graded on the 5 sets of provided data (5 points each), as well as 5 sets of hidden data (15 points each). For each test case, the grade depends on how much the result deviates from the groudtruth. A 2-step error for the provided data is tolerated. A 4-step error for the hidden data is tolerated. For results greater than the error threshold, your score will be scaled proportionally.\n",
    "\n",
    "####  Orientation Tracking (100 points) \n",
    "You will be graded on the provided data as well as 4 addition sets of data. They are each worth 20 points. A 2-degree error is tolerated. For results greater than the error threshold, no points will be rewarded since we provided a detailed algorithm to follow. The test data also include the simple case where the phone’s initial local frame is aligned with the global frame, and phone will only rotate along Z axis onwards. (In case you find the MP too difficult, only doing 1D integration on Z axis should at least give you some points.)"
   ]
  },
  {
   "cell_type": "markdown",
   "metadata": {},
   "source": [
    "---\n",
    "## Submission Guideline\n",
    "This Jupyter notebook is the only file you need to submit on Gradescope. If you are working in a pair, make sure your partner is correctly added on Gradescope and that both of your names are filled in at the top of this file.\n",
    "\n",
    "**Make sure any code you added to this notebook, except for import statements, is either in a function or guarded by `__main__`(which won't be run by the autograder). Gradescope will give you immediate feedback using the provided test cases. It is your responsibility to check the output before the deadline to ensure your submission runs with the autograder.**"
   ]
  }
 ],
 "metadata": {
  "kernelspec": {
   "display_name": "Python 3",
   "language": "python",
   "name": "python3"
  },
  "language_info": {
   "codemirror_mode": {
    "name": "ipython",
    "version": 3
   },
   "file_extension": ".py",
   "mimetype": "text/x-python",
   "name": "python",
   "nbconvert_exporter": "python",
   "pygments_lexer": "ipython3",
   "version": "3.8.0"
  }
 },
 "nbformat": 4,
 "nbformat_minor": 4
}
